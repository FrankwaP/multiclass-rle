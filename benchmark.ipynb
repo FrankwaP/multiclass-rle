{
 "cells": [
  {
   "cell_type": "code",
   "execution_count": 1,
   "id": "5f7a65f3",
   "metadata": {},
   "outputs": [],
   "source": [
    "from itertools import groupby\n",
    "\n",
    "import numpy as np"
   ]
  },
  {
   "cell_type": "code",
   "execution_count": 2,
   "id": "66f6edb5",
   "metadata": {},
   "outputs": [],
   "source": [
    "binary_mask = np.zeros((1000, 1000), dtype=bool)\n",
    "binary_mask[100:200, 100:200] = 1\n",
    "binary_mask[300:400, 300:400] = 1\n",
    "binary_mask[700:800, 700:800] = 1"
   ]
  },
  {
   "cell_type": "markdown",
   "id": "08cac241",
   "metadata": {},
   "source": [
    "# Specific librarys"
   ]
  },
  {
   "cell_type": "markdown",
   "id": "dfd161cf",
   "metadata": {},
   "source": [
    "## python-rle"
   ]
  },
  {
   "cell_type": "code",
   "execution_count": 3,
   "id": "09f8e9d2",
   "metadata": {},
   "outputs": [],
   "source": [
    "%pip install --quiet python-rle"
   ]
  },
  {
   "cell_type": "code",
   "execution_count": 4,
   "id": "0f6bd182",
   "metadata": {},
   "outputs": [],
   "source": [
    "from rle import encode as rle_encode, decode as rle_decode"
   ]
  },
  {
   "cell_type": "code",
   "execution_count": 5,
   "id": "1997f290",
   "metadata": {},
   "outputs": [
    {
     "name": "stdout",
     "output_type": "stream",
     "text": [
      "1.02 s ± 32.2 ms per loop (mean ± std. dev. of 7 runs, 1 loop each)\n"
     ]
    }
   ],
   "source": [
    "%timeit rle = rle_encode(binary_mask.ravel())"
   ]
  },
  {
   "cell_type": "code",
   "execution_count": 6,
   "id": "23781050",
   "metadata": {},
   "outputs": [],
   "source": [
    "rle = rle_encode(binary_mask.ravel())"
   ]
  },
  {
   "cell_type": "code",
   "execution_count": 7,
   "id": "8ad59325",
   "metadata": {},
   "outputs": [
    {
     "name": "stdout",
     "output_type": "stream",
     "text": [
      "956 ms ± 27.1 ms per loop (mean ± std. dev. of 7 runs, 1 loop each)\n"
     ]
    }
   ],
   "source": [
    "%timeit rle_decode(*rle)"
   ]
  },
  {
   "cell_type": "code",
   "execution_count": 8,
   "id": "2a20195e",
   "metadata": {},
   "outputs": [],
   "source": [
    "%pip uninstall --quiet --yes python-rle "
   ]
  },
  {
   "cell_type": "markdown",
   "id": "827c7e8b",
   "metadata": {},
   "source": [
    "## pycocotools"
   ]
  },
  {
   "cell_type": "code",
   "execution_count": 9,
   "id": "aeb71919",
   "metadata": {},
   "outputs": [],
   "source": [
    "%pip install --quiet pycocotools"
   ]
  },
  {
   "cell_type": "code",
   "execution_count": 10,
   "id": "d1b88c22",
   "metadata": {},
   "outputs": [],
   "source": [
    "from pycocotools.mask import encode as pycoco_encode, decode as pycoco_decode"
   ]
  },
  {
   "cell_type": "code",
   "execution_count": 11,
   "id": "8c886d47",
   "metadata": {},
   "outputs": [
    {
     "name": "stdout",
     "output_type": "stream",
     "text": [
      "1.22 ms ± 208 µs per loop (mean ± std. dev. of 7 runs, 1,000 loops each)\n"
     ]
    }
   ],
   "source": [
    "%timeit pycoco_encode(np.asfortranarray(binary_mask))"
   ]
  },
  {
   "cell_type": "code",
   "execution_count": 12,
   "id": "d3c4d8ea",
   "metadata": {},
   "outputs": [],
   "source": [
    "rle = pycoco_encode(np.asfortranarray(binary_mask))"
   ]
  },
  {
   "cell_type": "code",
   "execution_count": 13,
   "id": "726f6b8d",
   "metadata": {},
   "outputs": [
    {
     "name": "stdout",
     "output_type": "stream",
     "text": [
      "759 µs ± 103 µs per loop (mean ± std. dev. of 7 runs, 1,000 loops each)\n"
     ]
    }
   ],
   "source": [
    "%timeit pycoco_decode(rle)"
   ]
  },
  {
   "cell_type": "code",
   "execution_count": 14,
   "id": "dc7c1be1",
   "metadata": {},
   "outputs": [],
   "source": [
    "%pip uninstall --quiet --yes pycocotools"
   ]
  },
  {
   "cell_type": "markdown",
   "id": "125f54c2",
   "metadata": {},
   "source": [
    "# Solutions on the interweb"
   ]
  },
  {
   "cell_type": "code",
   "execution_count": 15,
   "id": "823a0fbb",
   "metadata": {},
   "outputs": [
    {
     "name": "stdout",
     "output_type": "stream",
     "text": [
      "4.31 ms ± 407 µs per loop (mean ± std. dev. of 7 runs, 100 loops each)\n"
     ]
    }
   ],
   "source": [
    "# https://www.kaggle.com/hackerpoet/even-faster-run-length-encoder\n",
    "\n",
    "def binary_array_to_rle_0(img):\n",
    "    flat_img = img.flatten()\n",
    "    flat_img = np.where(flat_img > 0.5, 1, 0).astype(np.uint8)\n",
    "\n",
    "    starts = np.array((flat_img[:-1] == 0) & (flat_img[1:] == 1))\n",
    "    ends = np.array((flat_img[:-1] == 1) & (flat_img[1:] == 0))\n",
    "    starts_ix = np.where(starts)[0] + 2\n",
    "    ends_ix = np.where(ends)[0] + 2\n",
    "    lengths = ends_ix - starts_ix\n",
    "\n",
    "    return starts_ix, lengths\n",
    "\n",
    "\n",
    "%timeit binary_array_to_rle_0(binary_mask)"
   ]
  },
  {
   "cell_type": "code",
   "execution_count": 16,
   "id": "ed9ada1f",
   "metadata": {},
   "outputs": [
    {
     "name": "stdout",
     "output_type": "stream",
     "text": [
      "36.7 ms ± 13.2 ms per loop (mean ± std. dev. of 7 runs, 10 loops each)\n"
     ]
    }
   ],
   "source": [
    "# https://stackoverflow.com/questions/49494337/encode-numpy-array-using-uncompressed-rle-for-coco-dataset/49547872#49547872\n",
    "def binary_array_to_rle_1(binary_mask):\n",
    "    rle = {\"counts\": [], \"size\": list(binary_mask.shape)}\n",
    "    counts = rle.get(\"counts\")\n",
    "    for i, (value, elements) in enumerate(groupby(binary_mask.ravel(order=\"F\"))):\n",
    "        if i == 0 and value == 1:\n",
    "            counts.append(0)\n",
    "        counts.append(len(list(elements)))\n",
    "    return rle\n",
    "\n",
    "\n",
    "%timeit binary_array_to_rle_1(binary_mask)"
   ]
  },
  {
   "cell_type": "code",
   "execution_count": 17,
   "id": "741799c7",
   "metadata": {
    "scrolled": true
   },
   "outputs": [
    {
     "name": "stdout",
     "output_type": "stream",
     "text": [
      "1.06 s ± 62 ms per loop (mean ± std. dev. of 7 runs, 1 loop each)\n"
     ]
    }
   ],
   "source": [
    "# https://stackoverflow.com/questions/49494337/encode-numpy-array-using-uncompressed-rle-for-coco-dataset/62208173#62208173\n",
    "def binary_array_to_rle_2(binary_mask):\n",
    "    rle = {\"counts\": [], \"size\": list(binary_mask.shape)}\n",
    "    counts = rle.get(\"counts\")\n",
    "\n",
    "    last_elem = 0\n",
    "    running_length = 0\n",
    "\n",
    "    for i, elem in enumerate(binary_mask.ravel(order=\"F\")):\n",
    "        if elem == last_elem:\n",
    "            pass\n",
    "        else:\n",
    "            counts.append(running_length)\n",
    "            running_length = 0\n",
    "            last_elem = elem\n",
    "        running_length += 1\n",
    "\n",
    "    counts.append(running_length)\n",
    "\n",
    "    return rle\n",
    "\n",
    "\n",
    "%timeit binary_array_to_rle_2(binary_mask)"
   ]
  },
  {
   "cell_type": "markdown",
   "id": "6c8a3c21",
   "metadata": {},
   "source": [
    "# Variation for multiclass mask\n",
    "\n",
    "(that I tried a long time ago, and very likely inspired our library)"
   ]
  },
  {
   "cell_type": "code",
   "execution_count": 18,
   "id": "ccb4d109",
   "metadata": {},
   "outputs": [],
   "source": [
    "mask = np.zeros((1000, 1000), dtype=np.uint8)\n",
    "mask[100:200, 100:200] = 1\n",
    "mask[300:400, 300:400] = 2\n",
    "mask[700:800, 700:800] = 4"
   ]
  },
  {
   "cell_type": "code",
   "execution_count": 19,
   "id": "25e2beb4",
   "metadata": {},
   "outputs": [
    {
     "name": "stdout",
     "output_type": "stream",
     "text": [
      "64.4 ms ± 6.52 ms per loop (mean ± std. dev. of 7 runs, 10 loops each)\n"
     ]
    }
   ],
   "source": [
    "def array_to_rle_0(mask: np.array) -> dict:\n",
    "    shape = mask.shape\n",
    "    mask = np.ravel(mask)\n",
    "    # [(val1, cnt1), (val2, cnt2), …]\n",
    "    val_cnt = [(val, len(list(cnt))) for val, cnt in groupby(mask)]\n",
    "    # [(val1, val2), (cnt1, cnt2), …]\n",
    "    val_cnt = list(zip(*val_cnt))\n",
    "    return {\"values\": val_cnt[0], \"counts\": val_cnt[1], \"size\": shape}\n",
    "\n",
    "\n",
    "%timeit array_to_rle_0(mask)"
   ]
  },
  {
   "cell_type": "code",
   "execution_count": 20,
   "id": "1e748085",
   "metadata": {},
   "outputs": [
    {
     "name": "stdout",
     "output_type": "stream",
     "text": [
      "73.3 ms ± 2.81 ms per loop (mean ± std. dev. of 7 runs, 10 loops each)\n"
     ]
    }
   ],
   "source": [
    "def array_to_rle_1(mask: np.array) -> dict:\n",
    "    shape = mask.shape\n",
    "    mask = np.ravel(mask)\n",
    "    # [(val1, cnt1), (val2, cnt2), …]\n",
    "    val_cnt = ((val, len(list(cnt))) for val, cnt in groupby(mask))  # generator\n",
    "    # [(val1, val2), (cnt1, cnt2), …]\n",
    "    val_cnt = list(zip(*val_cnt))\n",
    "    return {\"values\": val_cnt[0], \"counts\": val_cnt[1], \"size\": shape}\n",
    "\n",
    "\n",
    "%timeit array_to_rle_1(mask)"
   ]
  },
  {
   "cell_type": "code",
   "execution_count": 21,
   "id": "4c8b7098",
   "metadata": {},
   "outputs": [
    {
     "name": "stdout",
     "output_type": "stream",
     "text": [
      "110 ms ± 12.1 ms per loop (mean ± std. dev. of 7 runs, 10 loops each)\n"
     ]
    }
   ],
   "source": [
    "def array_to_rle_2(mask: np.array) -> dict:\n",
    "    shape = mask.shape\n",
    "    mask = np.ravel(mask)\n",
    "    # [(val1, cnt1), (val2, cnt2), …]\n",
    "    val_cnt = (\n",
    "        (val, sum(1 for _ in cnt)) for val, cnt in groupby(mask)\n",
    "    )  # for loop to reduce mem consumption\n",
    "    # [(val1, val2), (cnt1, cnt2), …]\n",
    "    val_cnt = list(zip(*val_cnt))\n",
    "    return {\"values\": val_cnt[0], \"counts\": val_cnt[1], \"size\": shape}\n",
    "\n",
    "\n",
    "%timeit array_to_rle_2(mask)"
   ]
  },
  {
   "cell_type": "code",
   "execution_count": 22,
   "id": "3ff2221c",
   "metadata": {},
   "outputs": [
    {
     "name": "stdout",
     "output_type": "stream",
     "text": [
      "6.07 ms ± 391 µs per loop (mean ± std. dev. of 7 runs, 100 loops each)\n"
     ]
    }
   ],
   "source": [
    "def array_to_rle_3(mask_array: np.ndarray) -> dict:\n",
    "    rle = {\"size\": mask_array.shape}\n",
    "    mask_array = mask_array.ravel(order='F')\n",
    "    pad_array = mask_array\n",
    "    pad_array = np.append([pad_array[0] + 1], pad_array)\n",
    "    pad_array = np.append(pad_array, [pad_array[-1] + 1])\n",
    "    start = np.where(pad_array[1:] != pad_array[:-1])[0]\n",
    "    rle[\"values\"] = tuple(mask_array[start[:-1]].tolist())\n",
    "    rle[\"counts\"] = tuple((start[1:] - start[:-1]).tolist())\n",
    "    return rle\n",
    "\n",
    "%timeit array_to_rle_3(mask)"
   ]
  },
  {
   "cell_type": "markdown",
   "id": "b7be8dc5",
   "metadata": {},
   "source": [
    "# Checking our library"
   ]
  },
  {
   "cell_type": "code",
   "execution_count": 23,
   "id": "2b62aefa",
   "metadata": {},
   "outputs": [],
   "source": [
    "from multiclass_rle import array_to_multi_class_rle, multi_class_rle_to_array"
   ]
  },
  {
   "cell_type": "code",
   "execution_count": 24,
   "id": "bbc19e98",
   "metadata": {},
   "outputs": [
    {
     "name": "stdout",
     "output_type": "stream",
     "text": [
      "6.16 ms ± 235 µs per loop (mean ± std. dev. of 7 runs, 100 loops each)\n"
     ]
    }
   ],
   "source": [
    "%timeit array_to_multi_class_rle(mask)"
   ]
  },
  {
   "cell_type": "code",
   "execution_count": 25,
   "id": "7edfdeaa",
   "metadata": {},
   "outputs": [],
   "source": [
    "rle = array_to_multi_class_rle(mask)"
   ]
  },
  {
   "cell_type": "code",
   "execution_count": 26,
   "id": "c755193f",
   "metadata": {},
   "outputs": [
    {
     "name": "stdout",
     "output_type": "stream",
     "text": [
      "381 µs ± 43.9 µs per loop (mean ± std. dev. of 7 runs, 1,000 loops each)\n"
     ]
    }
   ],
   "source": [
    "%timeit multi_class_rle_to_array(rle)"
   ]
  },
  {
   "cell_type": "markdown",
   "id": "8144be17",
   "metadata": {},
   "source": [
    "So… on my home computer… \n",
    "\n",
    "1. multi-class encoding is 5 times slower than the fastest binary encoding (pycocotools)  \n",
    "   BUT if you have N classes and use binary encoding, then you will decode N times: so for N>5, our approach will be faster.\n",
    "2. multi-class decoding is 2 times faster than the fastest binary encoding (pycocotools)  \n",
    "   AND decoding is the most critical part, since it is done in the training loop (one decoding for each epochs); while the encoding is one only once during the dataset praparation. \n",
    "\n",
    "So these are quite good results we've got here!"
   ]
  }
 ],
 "metadata": {
  "kernelspec": {
   "display_name": "Python 3 (ipykernel)",
   "language": "python",
   "name": "python3"
  },
  "language_info": {
   "codemirror_mode": {
    "name": "ipython",
    "version": 3
   },
   "file_extension": ".py",
   "mimetype": "text/x-python",
   "name": "python",
   "nbconvert_exporter": "python",
   "pygments_lexer": "ipython3",
   "version": "3.12.1"
  },
  "toc": {
   "base_numbering": 1,
   "nav_menu": {},
   "number_sections": true,
   "sideBar": true,
   "skip_h1_title": false,
   "title_cell": "Table of Contents",
   "title_sidebar": "Contents",
   "toc_cell": false,
   "toc_position": {},
   "toc_section_display": true,
   "toc_window_display": false
  }
 },
 "nbformat": 4,
 "nbformat_minor": 5
}
