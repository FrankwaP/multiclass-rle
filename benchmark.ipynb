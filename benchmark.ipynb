{
 "cells": [
  {
   "cell_type": "code",
   "execution_count": 5,
   "id": "5f7a65f3",
   "metadata": {},
   "outputs": [],
   "source": [
    "from itertools import groupby\n",
    "\n",
    "import numpy as np\n",
    "\n",
    "binary_mask = np.zeros((1000, 1000), dtype=bool)\n",
    "binary_mask[100:200, 100:200] = 1\n",
    "binary_mask[300:400, 300:400] = 1\n",
    "binary_mask[700:800, 700:800] = 1"
   ]
  },
  {
   "cell_type": "markdown",
   "id": "08cac241",
   "metadata": {},
   "source": [
    "# Specific library"
   ]
  },
  {
   "cell_type": "code",
   "execution_count": 6,
   "id": "0f6bd182",
   "metadata": {},
   "outputs": [
    {
     "name": "stdout",
     "output_type": "stream",
     "text": [
      "961 ms ± 15.3 ms per loop (mean ± std. dev. of 7 runs, 1 loop each)\n"
     ]
    }
   ],
   "source": [
    "from rle import encode\n",
    "\n",
    "%timeit encode(binary_mask.ravel())"
   ]
  },
  {
   "cell_type": "code",
   "execution_count": 7,
   "id": "8c886d47",
   "metadata": {},
   "outputs": [
    {
     "name": "stdout",
     "output_type": "stream",
     "text": [
      "1.5 ms ± 18.6 µs per loop (mean ± std. dev. of 7 runs, 1000 loops each)\n"
     ]
    }
   ],
   "source": [
    "from pycocotools.mask import encode\n",
    "\n",
    "%timeit encode(np.asfortranarray(binary_mask))"
   ]
  },
  {
   "cell_type": "markdown",
   "id": "125f54c2",
   "metadata": {},
   "source": [
    "# Solutions on the interweb"
   ]
  },
  {
   "cell_type": "code",
   "execution_count": 8,
   "id": "823a0fbb",
   "metadata": {},
   "outputs": [
    {
     "name": "stdout",
     "output_type": "stream",
     "text": [
      "2.11 ms ± 66.1 µs per loop (mean ± std. dev. of 7 runs, 100 loops each)\n"
     ]
    }
   ],
   "source": [
    "# https://www.kaggle.com/hackerpoet/even-faster-run-length-encoder\n",
    "\n",
    "def binary_array_to_rle(img):\n",
    "    flat_img = img.flatten()\n",
    "    flat_img = np.where(flat_img > 0.5, 1, 0).astype(np.uint8)\n",
    "\n",
    "    starts = np.array((flat_img[:-1] == 0) & (flat_img[1:] == 1))\n",
    "    ends = np.array((flat_img[:-1] == 1) & (flat_img[1:] == 0))\n",
    "    starts_ix = np.where(starts)[0] + 2\n",
    "    ends_ix = np.where(ends)[0] + 2\n",
    "    lengths = ends_ix - starts_ix\n",
    "\n",
    "    return starts_ix, lengths\n",
    "\n",
    "\n",
    "%timeit binary_array_to_rle(binary_mask)"
   ]
  },
  {
   "cell_type": "code",
   "execution_count": 9,
   "id": "ed9ada1f",
   "metadata": {},
   "outputs": [
    {
     "name": "stdout",
     "output_type": "stream",
     "text": [
      "18.3 ms ± 331 µs per loop (mean ± std. dev. of 7 runs, 100 loops each)\n"
     ]
    }
   ],
   "source": [
    "# https://stackoverflow.com/questions/49494337/encode-numpy-array-using-uncompressed-rle-for-coco-dataset/49547872#49547872\n",
    "def binary_array_to_rle(binary_mask):\n",
    "    rle = {\"counts\": [], \"size\": list(binary_mask.shape)}\n",
    "    counts = rle.get(\"counts\")\n",
    "    for i, (value, elements) in enumerate(groupby(binary_mask.ravel(order=\"F\"))):\n",
    "        if i == 0 and value == 1:\n",
    "            counts.append(0)\n",
    "        counts.append(len(list(elements)))\n",
    "    return rle\n",
    "\n",
    "\n",
    "%timeit binary_array_to_rle(binary_mask)"
   ]
  },
  {
   "cell_type": "code",
   "execution_count": 10,
   "id": "741799c7",
   "metadata": {
    "scrolled": true
   },
   "outputs": [
    {
     "name": "stdout",
     "output_type": "stream",
     "text": [
      "884 ms ± 14.1 ms per loop (mean ± std. dev. of 7 runs, 1 loop each)\n"
     ]
    }
   ],
   "source": [
    "# https://stackoverflow.com/questions/49494337/encode-numpy-array-using-uncompressed-rle-for-coco-dataset/62208173#62208173\n",
    "def binary_array_to_rle(binary_mask):\n",
    "    rle = {\"counts\": [], \"size\": list(binary_mask.shape)}\n",
    "    counts = rle.get(\"counts\")\n",
    "\n",
    "    last_elem = 0\n",
    "    running_length = 0\n",
    "\n",
    "    for i, elem in enumerate(binary_mask.ravel(order=\"F\")):\n",
    "        if elem == last_elem:\n",
    "            pass\n",
    "        else:\n",
    "            counts.append(running_length)\n",
    "            running_length = 0\n",
    "            last_elem = elem\n",
    "        running_length += 1\n",
    "\n",
    "    counts.append(running_length)\n",
    "\n",
    "    return rle\n",
    "\n",
    "\n",
    "%timeit binary_array_to_rle(binary_mask)"
   ]
  },
  {
   "cell_type": "markdown",
   "id": "6c8a3c21",
   "metadata": {},
   "source": [
    "# Variation for multiclass mask"
   ]
  },
  {
   "cell_type": "code",
   "execution_count": 11,
   "id": "ccb4d109",
   "metadata": {},
   "outputs": [],
   "source": [
    "mask = np.zeros((1000, 1000), dtype=np.uint8)\n",
    "mask[100:200, 100:200] = 1\n",
    "mask[300:400, 300:400] = 2\n",
    "mask[700:800, 700:800] = 4"
   ]
  },
  {
   "cell_type": "code",
   "execution_count": 12,
   "id": "25e2beb4",
   "metadata": {},
   "outputs": [
    {
     "name": "stdout",
     "output_type": "stream",
     "text": [
      "51.6 ms ± 211 µs per loop (mean ± std. dev. of 7 runs, 10 loops each)\n"
     ]
    }
   ],
   "source": [
    "def array_to_rle(mask: np.array) -> dict:\n",
    "    shape = mask.shape\n",
    "    mask = np.ravel(mask)\n",
    "    # [(val1, cnt1), (val2, cnt2), …]\n",
    "    val_cnt = [(val, len(list(cnt))) for val, cnt in groupby(mask)]\n",
    "    # [(val1, val2), (cnt1, cnt2), …]\n",
    "    val_cnt = list(zip(*val_cnt))\n",
    "    return {\"values\": val_cnt[0], \"counts\": val_cnt[1], \"size\": shape}\n",
    "\n",
    "\n",
    "%timeit array_to_rle(mask)"
   ]
  },
  {
   "cell_type": "code",
   "execution_count": 13,
   "id": "1e748085",
   "metadata": {},
   "outputs": [
    {
     "name": "stdout",
     "output_type": "stream",
     "text": [
      "53.2 ms ± 1.54 ms per loop (mean ± std. dev. of 7 runs, 10 loops each)\n"
     ]
    }
   ],
   "source": [
    "def array_to_rle(mask: np.array) -> dict:\n",
    "    shape = mask.shape\n",
    "    mask = np.ravel(mask)\n",
    "    # [(val1, cnt1), (val2, cnt2), …]\n",
    "    val_cnt = ((val, len(list(cnt))) for val, cnt in groupby(mask))  # generator\n",
    "    # [(val1, val2), (cnt1, cnt2), …]\n",
    "    val_cnt = list(zip(*val_cnt))\n",
    "    return {\"values\": val_cnt[0], \"counts\": val_cnt[1], \"size\": shape}\n",
    "\n",
    "\n",
    "%timeit array_to_rle(mask)"
   ]
  },
  {
   "cell_type": "code",
   "execution_count": 14,
   "id": "4c8b7098",
   "metadata": {},
   "outputs": [
    {
     "name": "stdout",
     "output_type": "stream",
     "text": [
      "68.7 ms ± 881 µs per loop (mean ± std. dev. of 7 runs, 10 loops each)\n"
     ]
    }
   ],
   "source": [
    "def array_to_rle(mask: np.array) -> dict:\n",
    "    shape = mask.shape\n",
    "    mask = np.ravel(mask)\n",
    "    # [(val1, cnt1), (val2, cnt2), …]\n",
    "    val_cnt = (\n",
    "        (val, sum(1 for _ in cnt)) for val, cnt in groupby(mask)\n",
    "    )  # for loop to reduce mem consumption\n",
    "    # [(val1, val2), (cnt1, cnt2), …]\n",
    "    val_cnt = list(zip(*val_cnt))\n",
    "    return {\"values\": val_cnt[0], \"counts\": val_cnt[1], \"size\": shape}\n",
    "\n",
    "\n",
    "%timeit array_to_rle(mask)"
   ]
  },
  {
   "cell_type": "code",
   "execution_count": 17,
   "id": "3ff2221c",
   "metadata": {},
   "outputs": [
    {
     "name": "stdout",
     "output_type": "stream",
     "text": [
      "3.44 ms ± 80 µs per loop (mean ± std. dev. of 7 runs, 100 loops each)\n"
     ]
    }
   ],
   "source": [
    "def array_to_rle(mask_array: np.ndarray) -> dict:\n",
    "    # 8.53s!!\n",
    "    rle = {\"size\": mask_array.shape}\n",
    "    mask_array = mask_array.ravel(order='F')\n",
    "    pad_array = mask_array\n",
    "    pad_array = np.append([pad_array[0] + 1], pad_array)\n",
    "    pad_array = np.append(pad_array, [pad_array[-1] + 1])\n",
    "    start = np.where(pad_array[1:] != pad_array[:-1])[0]\n",
    "    rle[\"values\"] = tuple(mask_array[start[:-1]].tolist())\n",
    "    rle[\"counts\"] = tuple((start[1:] - start[:-1]).tolist())\n",
    "    return rle\n",
    "\n",
    "%timeit array_to_rle(mask)"
   ]
  },
  {
   "cell_type": "code",
   "execution_count": null,
   "id": "2b62aefa",
   "metadata": {},
   "outputs": [],
   "source": []
  }
 ],
 "metadata": {
  "kernelspec": {
   "display_name": "Python 3 (ipykernel)",
   "language": "python",
   "name": "python3"
  },
  "language_info": {
   "codemirror_mode": {
    "name": "ipython",
    "version": 3
   },
   "file_extension": ".py",
   "mimetype": "text/x-python",
   "name": "python",
   "nbconvert_exporter": "python",
   "pygments_lexer": "ipython3",
   "version": "3.9.12"
  },
  "toc": {
   "base_numbering": 1,
   "nav_menu": {},
   "number_sections": true,
   "sideBar": true,
   "skip_h1_title": false,
   "title_cell": "Table of Contents",
   "title_sidebar": "Contents",
   "toc_cell": false,
   "toc_position": {},
   "toc_section_display": true,
   "toc_window_display": false
  }
 },
 "nbformat": 4,
 "nbformat_minor": 5
}

